{
 "cells": [
  {
   "cell_type": "markdown",
   "metadata": {
    "id": "x3iHOzmRkc1t"
   },
   "source": [
    "# Abrir un archivo en Google Drive"
   ]
  },
  {
   "cell_type": "code",
   "execution_count": 1,
   "metadata": {
    "colab": {
     "base_uri": "https://localhost:8080/"
    },
    "executionInfo": {
     "elapsed": 18402,
     "status": "ok",
     "timestamp": 1719354366948,
     "user": {
      "displayName": "Luis Guillermo Ruiz",
      "userId": "00339548432153952746"
     },
     "user_tz": 360
    },
    "id": "20yaL5DCX4Dt",
    "outputId": "d71c6aa7-a8d9-4a8c-dd3e-4c13f618b4a6"
   },
   "outputs": [
    {
     "name": "stdout",
     "output_type": "stream",
     "text": [
      "Mounted at /content/drive\n"
     ]
    }
   ],
   "source": [
    "#Cargar google drive\n",
    "from google.colab import drive\n",
    "drive.mount('/content/drive')\n"
   ]
  },
  {
   "cell_type": "code",
   "execution_count": 2,
   "metadata": {
    "executionInfo": {
     "elapsed": 792,
     "status": "ok",
     "timestamp": 1719354459809,
     "user": {
      "displayName": "Luis Guillermo Ruiz",
      "userId": "00339548432153952746"
     },
     "user_tz": 360
    },
    "id": "Qdflx4FGg9yc"
   },
   "outputs": [],
   "source": [
    "# leer libro_1.txt\n",
    "file = \"/content/drive/MyDrive/clases/proces_info/unidad 1/A/libro_1.txt\"\n",
    "with open(file, 'r', encoding=('utf-8')) as f:\n",
    "    text = f.readlines()"
   ]
  },
  {
   "cell_type": "code",
   "execution_count": 3,
   "metadata": {
    "colab": {
     "base_uri": "https://localhost:8080/"
    },
    "executionInfo": {
     "elapsed": 178,
     "status": "ok",
     "timestamp": 1719354481467,
     "user": {
      "displayName": "Luis Guillermo Ruiz",
      "userId": "00339548432153952746"
     },
     "user_tz": 360
    },
    "id": "RDNpRHkgYvsJ",
    "outputId": "a2280095-8f73-478b-ffbd-fcf4100d7012"
   },
   "outputs": [
    {
     "data": {
      "text/plain": [
       "['\\ufeffNIEBLA\\n',\n",
       " '\\n',\n",
       " '\\n',\n",
       " '\\n',\n",
       " '\\n',\n",
       " '  MIGUEL DE UNAMUNO\\n',\n",
       " '\\n',\n",
       " '\\n',\n",
       " '  :: NIEBLA ::\\n',\n",
       " '  (NIVOLA)\\n']"
      ]
     },
     "execution_count": 3,
     "metadata": {},
     "output_type": "execute_result"
    }
   ],
   "source": [
    "# Muestra las primeras 10 líneas\n",
    "text[0:10]"
   ]
  },
  {
   "cell_type": "code",
   "execution_count": 4,
   "metadata": {
    "colab": {
     "base_uri": "https://localhost:8080/"
    },
    "executionInfo": {
     "elapsed": 159,
     "status": "ok",
     "timestamp": 1719354516823,
     "user": {
      "displayName": "Luis Guillermo Ruiz",
      "userId": "00339548432153952746"
     },
     "user_tz": 360
    },
    "id": "U6evLyS6g1nj",
    "outputId": "ecf0f263-93d3-4367-f59f-29e1bb86fb0c"
   },
   "outputs": [
    {
     "data": {
      "text/plain": [
       "8260"
      ]
     },
     "execution_count": 4,
     "metadata": {},
     "output_type": "execute_result"
    }
   ],
   "source": [
    "len(text)"
   ]
  },
  {
   "cell_type": "code",
   "execution_count": 5,
   "metadata": {
    "colab": {
     "base_uri": "https://localhost:8080/",
     "height": 36
    },
    "executionInfo": {
     "elapsed": 171,
     "status": "ok",
     "timestamp": 1719354557758,
     "user": {
      "displayName": "Luis Guillermo Ruiz",
      "userId": "00339548432153952746"
     },
     "user_tz": 360
    },
    "id": "AZZVsKLEh8vV",
    "outputId": "bf4e3eef-852f-4b26-d4b0-9edf99f1b27d"
   },
   "outputs": [
    {
     "data": {
      "application/vnd.google.colaboratory.intrinsic+json": {
       "type": "string"
      },
      "text/plain": [
       "'\\ufeffNIEBLA\\n\\n\\n'"
      ]
     },
     "execution_count": 5,
     "metadata": {},
     "output_type": "execute_result"
    }
   ],
   "source": [
    "# leer libro_1.txt\n",
    "file = \"/content/drive/MyDrive/clases/proces_info/unidad 1/A/libro_1.txt\"\n",
    "with open(file, 'r', encoding=('utf-8')) as f:\n",
    "    text = f.read()\n",
    "# Muestra los primeros 10 caracteres.\n",
    "text[0:10]"
   ]
  },
  {
   "cell_type": "code",
   "execution_count": 6,
   "metadata": {
    "colab": {
     "base_uri": "https://localhost:8080/"
    },
    "executionInfo": {
     "elapsed": 180,
     "status": "ok",
     "timestamp": 1719354582033,
     "user": {
      "displayName": "Luis Guillermo Ruiz",
      "userId": "00339548432153952746"
     },
     "user_tz": 360
    },
    "id": "GpK5ZsTHhJ_G",
    "outputId": "e1a03e1e-cb8e-4021-a5da-476a7159c999"
   },
   "outputs": [
    {
     "data": {
      "text/plain": [
       "318464"
      ]
     },
     "execution_count": 6,
     "metadata": {},
     "output_type": "execute_result"
    }
   ],
   "source": [
    "len(text)"
   ]
  },
  {
   "cell_type": "markdown",
   "metadata": {
    "id": "KTHnrBUUkqsi"
   },
   "source": [
    "# Quitar acentos"
   ]
  },
  {
   "cell_type": "code",
   "execution_count": 7,
   "metadata": {
    "executionInfo": {
     "elapsed": 158,
     "status": "ok",
     "timestamp": 1719354662278,
     "user": {
      "displayName": "Luis Guillermo Ruiz",
      "userId": "00339548432153952746"
     },
     "user_tz": 360
    },
    "id": "hhWtBb5oZU4h"
   },
   "outputs": [],
   "source": [
    "#remover acentos\n",
    "import unicodedata\n",
    "def remove_accents(input_str):\n",
    "    nfkd_form = unicodedata.normalize('NFKD', input_str)\n",
    "    return u\"\".join([c for c in nfkd_form if not unicodedata.combining(c)])\n"
   ]
  },
  {
   "cell_type": "code",
   "execution_count": 8,
   "metadata": {
    "executionInfo": {
     "elapsed": 185,
     "status": "ok",
     "timestamp": 1719354673519,
     "user": {
      "displayName": "Luis Guillermo Ruiz",
      "userId": "00339548432153952746"
     },
     "user_tz": 360
    },
    "id": "C4_HhTwQgAS2"
   },
   "outputs": [],
   "source": [
    "texto_sin_acentos = remove_accents(text)"
   ]
  },
  {
   "cell_type": "code",
   "execution_count": 9,
   "metadata": {
    "colab": {
     "base_uri": "https://localhost:8080/"
    },
    "executionInfo": {
     "elapsed": 168,
     "status": "ok",
     "timestamp": 1719354688052,
     "user": {
      "displayName": "Luis Guillermo Ruiz",
      "userId": "00339548432153952746"
     },
     "user_tz": 360
    },
    "id": "DpyqKTgckElz",
    "outputId": "8c925512-b866-47cf-de0f-2a4d76aeafaf"
   },
   "outputs": [
    {
     "name": "stdout",
     "output_type": "stream",
     "text": [
      "icólogos llaman libre\n",
      "albedrío, aunque para mi consuelo creo también que tampoco goza don\n",
      "Miguel de él.\n",
      "\n",
      "Parecerá acaso extraño a alguno de nuestros lectores que sea yo, un\n",
      "perfecto desconocido en la república de las letras españolas, quien\n",
      "prologue un libro de don Miguel que es ya ventajosamente conocido en\n",
      "ella, cuando la costumbre es que sean los escritores más conocidos\n",
      "los que hagan en los pr\n"
     ]
    }
   ],
   "source": [
    "print(text[800:1200])"
   ]
  },
  {
   "cell_type": "code",
   "execution_count": 10,
   "metadata": {
    "colab": {
     "base_uri": "https://localhost:8080/"
    },
    "executionInfo": {
     "elapsed": 167,
     "status": "ok",
     "timestamp": 1719354702075,
     "user": {
      "displayName": "Luis Guillermo Ruiz",
      "userId": "00339548432153952746"
     },
     "user_tz": 360
    },
    "id": "CrgCmgjlgDMh",
    "outputId": "ced59fb2-c276-4892-da3c-7ee75e362aa0"
   },
   "outputs": [
    {
     "name": "stdout",
     "output_type": "stream",
     "text": [
      "icologos llaman libre\n",
      "albedrio, aunque para mi consuelo creo tambien que tampoco goza don\n",
      "Miguel de el.\n",
      "\n",
      "Parecera acaso extrano a alguno de nuestros lectores que sea yo, un\n",
      "perfecto desconocido en la republica de las letras espanolas, quien\n",
      "prologue un libro de don Miguel que es ya ventajosamente conocido en\n",
      "ella, cuando la costumbre es que sean los escritores mas conocidos\n",
      "los que hagan en los pr\n"
     ]
    }
   ],
   "source": [
    "print(texto_sin_acentos[800:1200])"
   ]
  },
  {
   "cell_type": "markdown",
   "metadata": {
    "id": "O4JUgJ5fnVF2"
   },
   "source": [
    "# Quitar Stopwords"
   ]
  },
  {
   "cell_type": "code",
   "execution_count": 11,
   "metadata": {
    "colab": {
     "base_uri": "https://localhost:8080/"
    },
    "executionInfo": {
     "elapsed": 2233,
     "status": "ok",
     "timestamp": 1719354791238,
     "user": {
      "displayName": "Luis Guillermo Ruiz",
      "userId": "00339548432153952746"
     },
     "user_tz": 360
    },
    "id": "E2xGOFNGnYOD",
    "outputId": "d4ffc059-3f25-4d67-e223-d79536303f6c"
   },
   "outputs": [
    {
     "name": "stderr",
     "output_type": "stream",
     "text": [
      "[nltk_data] Downloading package stopwords to /root/nltk_data...\n",
      "[nltk_data]   Unzipping corpora/stopwords.zip.\n"
     ]
    }
   ],
   "source": [
    "# Lista de stopwords en español\n",
    "from nltk.corpus import stopwords\n",
    "import nltk\n",
    "nltk.download('stopwords')\n",
    "_STOPWORDS = stopwords.words(\"spanish\")"
   ]
  },
  {
   "cell_type": "code",
   "execution_count": 12,
   "metadata": {
    "colab": {
     "base_uri": "https://localhost:8080/"
    },
    "executionInfo": {
     "elapsed": 193,
     "status": "ok",
     "timestamp": 1719354807728,
     "user": {
      "displayName": "Luis Guillermo Ruiz",
      "userId": "00339548432153952746"
     },
     "user_tz": 360
    },
    "id": "nRiUPyTen28u",
    "outputId": "0cc1abbb-3b97-4ee7-83d5-f4f2787c15b8"
   },
   "outputs": [
    {
     "name": "stdout",
     "output_type": "stream",
     "text": [
      "['de', 'la', 'que', 'el', 'en', 'y', 'a', 'los', 'del', 'se']\n",
      "['las', 'por', 'un', 'para', 'con', 'no', 'una', 'su', 'al', 'lo']\n",
      "['como', 'más', 'pero', 'sus', 'le', 'ya', 'o', 'este', 'sí', 'porque']\n",
      "['esta', 'entre', 'cuando', 'muy', 'sin', 'sobre', 'también', 'me', 'hasta', 'hay']\n",
      "['donde', 'quien', 'desde', 'todo', 'nos', 'durante', 'todos', 'uno', 'les', 'ni']\n",
      "['contra', 'otros', 'ese', 'eso', 'ante', 'ellos', 'e', 'esto', 'mí', 'antes']\n",
      "['algunos', 'qué', 'unos', 'yo', 'otro', 'otras', 'otra', 'él', 'tanto', 'esa']\n",
      "['estos', 'mucho', 'quienes', 'nada', 'muchos', 'cual', 'poco', 'ella', 'estar', 'estas']\n",
      "['algunas', 'algo', 'nosotros', 'mi', 'mis', 'tú', 'te', 'ti', 'tu', 'tus']\n",
      "['ellas', 'nosotras', 'vosotros', 'vosotras', 'os', 'mío', 'mía', 'míos', 'mías', 'tuyo']\n",
      "['tuya', 'tuyos', 'tuyas', 'suyo', 'suya', 'suyos', 'suyas', 'nuestro', 'nuestra', 'nuestros']\n",
      "['nuestras', 'vuestro', 'vuestra', 'vuestros', 'vuestras', 'esos', 'esas', 'estoy', 'estás', 'está']\n",
      "['estamos', 'estáis', 'están', 'esté', 'estés', 'estemos', 'estéis', 'estén', 'estaré', 'estarás']\n",
      "['estará', 'estaremos', 'estaréis', 'estarán', 'estaría', 'estarías', 'estaríamos', 'estaríais', 'estarían', 'estaba']\n",
      "['estabas', 'estábamos', 'estabais', 'estaban', 'estuve', 'estuviste', 'estuvo', 'estuvimos', 'estuvisteis', 'estuvieron']\n",
      "['estuviera', 'estuvieras', 'estuviéramos', 'estuvierais', 'estuvieran', 'estuviese', 'estuvieses', 'estuviésemos', 'estuvieseis', 'estuviesen']\n",
      "['estando', 'estado', 'estada', 'estados', 'estadas', 'estad', 'he', 'has', 'ha', 'hemos']\n",
      "['habéis', 'han', 'haya', 'hayas', 'hayamos', 'hayáis', 'hayan', 'habré', 'habrás', 'habrá']\n",
      "['habremos', 'habréis', 'habrán', 'habría', 'habrías', 'habríamos', 'habríais', 'habrían', 'había', 'habías']\n",
      "['habíamos', 'habíais', 'habían', 'hube', 'hubiste', 'hubo', 'hubimos', 'hubisteis', 'hubieron', 'hubiera']\n",
      "['hubieras', 'hubiéramos', 'hubierais', 'hubieran', 'hubiese', 'hubieses', 'hubiésemos', 'hubieseis', 'hubiesen', 'habiendo']\n",
      "['habido', 'habida', 'habidos', 'habidas', 'soy', 'eres', 'es', 'somos', 'sois', 'son']\n",
      "['sea', 'seas', 'seamos', 'seáis', 'sean', 'seré', 'serás', 'será', 'seremos', 'seréis']\n",
      "['serán', 'sería', 'serías', 'seríamos', 'seríais', 'serían', 'era', 'eras', 'éramos', 'erais']\n",
      "['eran', 'fui', 'fuiste', 'fue', 'fuimos', 'fuisteis', 'fueron', 'fuera', 'fueras', 'fuéramos']\n",
      "['fuerais', 'fueran', 'fuese', 'fueses', 'fuésemos', 'fueseis', 'fuesen', 'sintiendo', 'sentido', 'sentida']\n",
      "['sentidos', 'sentidas', 'siente', 'sentid', 'tengo', 'tienes', 'tiene', 'tenemos', 'tenéis', 'tienen']\n",
      "['tenga', 'tengas', 'tengamos', 'tengáis', 'tengan', 'tendré', 'tendrás', 'tendrá', 'tendremos', 'tendréis']\n",
      "['tendrán', 'tendría', 'tendrías', 'tendríamos', 'tendríais', 'tendrían', 'tenía', 'tenías', 'teníamos', 'teníais']\n",
      "['tenían', 'tuve', 'tuviste', 'tuvo', 'tuvimos', 'tuvisteis', 'tuvieron', 'tuviera', 'tuvieras', 'tuviéramos']\n",
      "['tuvierais', 'tuvieran', 'tuviese', 'tuvieses', 'tuviésemos', 'tuvieseis', 'tuviesen', 'teniendo', 'tenido', 'tenida']\n",
      "['tenidos', 'tenidas', 'tened']\n"
     ]
    }
   ],
   "source": [
    "for i in range(0, len(_STOPWORDS), 10):\n",
    "    print(_STOPWORDS[i:i+10])"
   ]
  },
  {
   "cell_type": "code",
   "execution_count": 13,
   "metadata": {
    "colab": {
     "base_uri": "https://localhost:8080/"
    },
    "executionInfo": {
     "elapsed": 370,
     "status": "ok",
     "timestamp": 1719354823957,
     "user": {
      "displayName": "Luis Guillermo Ruiz",
      "userId": "00339548432153952746"
     },
     "user_tz": 360
    },
    "id": "yHxaJWJbiHX3",
    "outputId": "a6b5dc30-74eb-436d-f991-fecea292aa16"
   },
   "outputs": [
    {
     "data": {
      "text/plain": [
       "313"
      ]
     },
     "execution_count": 13,
     "metadata": {},
     "output_type": "execute_result"
    }
   ],
   "source": [
    "len(_STOPWORDS)"
   ]
  },
  {
   "cell_type": "code",
   "execution_count": 14,
   "metadata": {
    "colab": {
     "base_uri": "https://localhost:8080/",
     "height": 88
    },
    "executionInfo": {
     "elapsed": 324,
     "status": "ok",
     "timestamp": 1719354916455,
     "user": {
      "displayName": "Luis Guillermo Ruiz",
      "userId": "00339548432153952746"
     },
     "user_tz": 360
    },
    "id": "kjrBTx4goVx9",
    "outputId": "75dc0a9d-b5be-4667-bb52-96e5f949e4b7"
   },
   "outputs": [
    {
     "data": {
      "application/vnd.google.colaboratory.intrinsic+json": {
       "type": "string"
      },
      "text/plain": [
       "' costumbre escritores mas conocidos hagan prologos presentacion aquellos menos. Pero puesto acuerdo don Miguel alterar perniciosa costumbre, invirtiendo terminos, desconocido conocido presente. Porque rigor libros mas compran cuerpo texto prologo, natural joven principiante yo, desee darse conocer, vez pedir veterano letras escriba prologo presentacion, debe rogarle permita ponerselo obras. Y vez '"
      ]
     },
     "execution_count": 14,
     "metadata": {},
     "output_type": "execute_result"
    }
   ],
   "source": [
    "# quitar stopwords\n",
    "def remove_stopwords(text):\n",
    "    new_text = []\n",
    "    for word in text.split():\n",
    "        if word in _STOPWORDS:\n",
    "            continue\n",
    "        else:\n",
    "            new_text.append(word)\n",
    "    return \" \".join(new_text)\n",
    "\n",
    "texto_sin_stopwords = remove_stopwords(texto_sin_acentos)\n",
    "texto_sin_stopwords[800:1200]"
   ]
  },
  {
   "cell_type": "markdown",
   "metadata": {
    "id": "JzmhMcAskuIC"
   },
   "source": [
    "# Graficar"
   ]
  },
  {
   "cell_type": "code",
   "execution_count": 15,
   "metadata": {
    "colab": {
     "base_uri": "https://localhost:8080/",
     "height": 430
    },
    "executionInfo": {
     "elapsed": 1292,
     "status": "ok",
     "timestamp": 1719355056768,
     "user": {
      "displayName": "Luis Guillermo Ruiz",
      "userId": "00339548432153952746"
     },
     "user_tz": 360
    },
    "id": "xETHV_STjudi",
    "outputId": "13ca50e6-4b6f-41a1-c549-efa7b1420e2f"
   },
   "outputs": [
    {
     "data": {
      "image/png": "[encoded data removed]",
      "text/plain": [
       "<Figure size 640x480 with 1 Axes>"
      ]
     },
     "metadata": {},
     "output_type": "display_data"
    }
   ],
   "source": [
    "# Crear una gráfica de barras\n",
    "import matplotlib.pyplot as plt\n",
    "\n",
    "datos = {'Comida':2000, 'Transporte':400, 'Renta':3000, 'Servicios':800}\n",
    "plt.bar(datos.keys(), datos.values())\n",
    "plt.show()"
   ]
  },
  {
   "cell_type": "code",
   "execution_count": null,
   "metadata": {
    "id": "u1hHfFtpk6dP"
   },
   "outputs": [],
   "source": []
  }
 ],
 "metadata": {
  "colab": {
   "authorship_tag": "ABX9TyMrbmax7y4GRegIC4ToGffv",
   "provenance": []
  },
  "kernelspec": {
   "display_name": "Python 3 (ipykernel)",
   "language": "python",
   "name": "python3"
  },
  "language_info": {
   "codemirror_mode": {
    "name": "ipython",
    "version": 3
   },
   "file_extension": ".py",
   "mimetype": "text/x-python",
   "name": "python",
   "nbconvert_exporter": "python",
   "pygments_lexer": "ipython3",
   "version": "3.9.23"
  }
 },
 "nbformat": 4,
 "nbformat_minor": 4
}
